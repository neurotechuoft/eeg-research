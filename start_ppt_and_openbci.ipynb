{
 "cells": [
  {
   "cell_type": "code",
   "execution_count": 14,
   "metadata": {
    "scrolled": false
   },
   "outputs": [
    {
     "name": "stdout",
     "output_type": "stream",
     "text": [
      "C:/Program Files (x86)/Microsoft Office/root/Office16/POWERPNT.exe /S C:/Users/xutia/Desktop/utoronto/Neurotech/experiment.pptx\n"
     ]
    },
    {
     "data": {
      "text/plain": [
       "0"
      ]
     },
     "execution_count": 14,
     "metadata": {},
     "output_type": "execute_result"
    }
   ],
   "source": [
    "import subprocess\n",
    "from pyOpenBCI import OpenBCICyton\n",
    "from pylsl import StreamInfo, StreamOutlet\n",
    "import numpy as np\n",
    "\n",
    "# -------------------------------------- CONSTANTS -------------------------------------------\n",
    "SCALE_FACTOR_EEG = (4500000)/24/(2**23-1)\n",
    "SCALE_FACTOR_AUX = 0.002 / (2**4)\n",
    "path_to_ppt_exe = \"C:/Program Files (x86)/Microsoft Office/root/Office16/POWERPNT.exe\"\n",
    "path_to_ppt = \"C:/Users/xutia/Desktop/utoronto/Neurotech/experiment.pptx\"\n",
    "\n",
    "# --------------------------------------- HELPERS --------------------------------------------\n",
    "def lsl_streamers(sample):\n",
    "    outlet_eeg.push_sample(np.array(sample.channels_data)*SCALE_FACTOR_EEG)\n",
    "    outlet_aux.push_sample(np.array(sample.aux_data)*SCALE_FACTOR_AUX)\n",
    "    print (sample.channels_data)\n",
    "    \n",
    "def start_openbci(SCALE_FACTOR_EEG, SCALE_FACTOR_AU):\n",
    "    print(\"Creating LSL stream for EEG. \\nName: OpenBCIEEG\\nID: OpenBCItestEEG\\n\")\n",
    "    #                      NAME         TYPE   #CH  SAMPLE_RATE   DATA_TYPE  STREAM ID\n",
    "    info_eeg = StreamInfo('OpenBCIEEG', 'EEG', 8,   250,          'float32', 'OpenBCItestEEG')\n",
    "    print(\"Creating LSL stream for AUX. \\nName: OpenBCIAUX\\nID: OpenBCItestEEG\\n\")\n",
    "    #                      NAME         TYPE   #CH  SAMPLE_RATE   DATA_TYPE  STREAM ID\n",
    "    info_aux = StreamInfo('OpenBCIAUX', 'AUX', 3,   250,          'float32', 'OpenBCItestAUX')\n",
    "    \n",
    "    # create outlet stream for eeg and aux\n",
    "    outlet_eeg = StreamOutlet(info_eeg)\n",
    "    outlet_aux = StreamOutlet(info_aux)\n",
    "    board = OpenBCICyton(port='COM5', daisy=False)\n",
    "    board.start_stream(lsl_streamers) \n",
    "\n",
    "def start_ppt(path_to_ppt_exe, path_to_ppt):\n",
    "    cmd = path_to_ppt_exe + \" /S \" + path_to_ppt \n",
    "    print(\"Executing: \"+cmd)\n",
    "    subprocess.call(cmd)\n",
    "\n",
    "# ---------------------------------------- MAIN -------------------------------------------\n",
    "start_openbci(SCALE_FACTOR_EEG, SCALE_FACTOR_AU)\n",
    "start_ppt(path_to_ppt_exe, path_to_ppt)"
   ]
  },
  {
   "cell_type": "code",
   "execution_count": null,
   "metadata": {},
   "outputs": [],
   "source": []
  }
 ],
 "metadata": {
  "kernelspec": {
   "display_name": "Python 3",
   "language": "python",
   "name": "python3"
  },
  "language_info": {
   "codemirror_mode": {
    "name": "ipython",
    "version": 3
   },
   "file_extension": ".py",
   "mimetype": "text/x-python",
   "name": "python",
   "nbconvert_exporter": "python",
   "pygments_lexer": "ipython3",
   "version": "3.7.6"
  }
 },
 "nbformat": 4,
 "nbformat_minor": 4
}
